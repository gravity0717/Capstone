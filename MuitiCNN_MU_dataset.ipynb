{
  "nbformat": 4,
  "nbformat_minor": 0,
  "metadata": {
    "colab": {
      "name": "MuitiCNN_MU_dataset.ipynb",
      "provenance": [],
      "collapsed_sections": [],
      "toc_visible": true,
      "authorship_tag": "ABX9TyNmZMc14mjn2VjCwYs2ZGFg",
      "include_colab_link": true
    },
    "kernelspec": {
      "name": "python3",
      "display_name": "Python 3"
    },
    "language_info": {
      "name": "python"
    },
    "gpuClass": "standard",
    "accelerator": "GPU"
  },
  "cells": [
    {
      "cell_type": "markdown",
      "metadata": {
        "id": "view-in-github",
        "colab_type": "text"
      },
      "source": [
        "<a href=\"https://colab.research.google.com/github/gravity0717/Capstone/blob/main/MuitiCNN_MU_dataset.ipynb\" target=\"_parent\"><img src=\"https://colab.research.google.com/assets/colab-badge.svg\" alt=\"Open In Colab\"/></a>"
      ]
    },
    {
      "cell_type": "code",
      "source": [
        "import matplotlib.pyplot as plt\n",
        "import seaborn as sns"
      ],
      "metadata": {
        "id": "-BeiWbNflW6E"
      },
      "execution_count": null,
      "outputs": []
    },
    {
      "cell_type": "code",
      "execution_count": null,
      "metadata": {
        "id": "ZI-N16I4xX9p",
        "colab": {
          "base_uri": "https://localhost:8080/"
        },
        "outputId": "8e4b49db-c288-4c03-af94-d60b513c2919"
      },
      "outputs": [
        {
          "output_type": "stream",
          "name": "stdout",
          "text": [
            "Drive already mounted at /content/drive; to attempt to forcibly remount, call drive.mount(\"/content/drive\", force_remount=True).\n"
          ]
        }
      ],
      "source": [
        "import pandas as pd \n",
        "import json \n",
        "import tarfile \n",
        "import torch \n",
        "from torch.utils.data import Dataset\n",
        "import math\n",
        "from PIL import Image\n",
        "from google.colab import drive \n",
        "drive.mount('/content/drive')\n",
        "import math"
      ]
    },
    {
      "cell_type": "code",
      "source": [
        "from sklearn.metrics import mean_squared_error\n",
        "device=torch.device('cuda' if torch.cuda.is_available() else 'cpu')\n",
        "torch.manual_seed(970717)"
      ],
      "metadata": {
        "id": "UR4z3f8bxdX9",
        "colab": {
          "base_uri": "https://localhost:8080/"
        },
        "outputId": "59873aec-3136-4ed3-88bc-7dfb2ab5c0f8"
      },
      "execution_count": null,
      "outputs": [
        {
          "output_type": "execute_result",
          "data": {
            "text/plain": [
              "<torch._C.Generator at 0x7f3aa93f4e10>"
            ]
          },
          "metadata": {},
          "execution_count": 3
        }
      ]
    },
    {
      "cell_type": "markdown",
      "source": [
        "**데이터 정의**\n",
        "\n",
        "1.MU\n",
        "\n",
        "2.MU-normalize : groundtruth 를 0 to 1 으로 정규화\n"
      ],
      "metadata": {
        "id": "nmuH2OIoXPxs"
      }
    },
    {
      "cell_type": "code",
      "source": [
        "from PIL import Image \n",
        "import glob\n",
        "from torch.utils.data.dataset import Dataset\n",
        "import numpy as np \n",
        "from torchvision import transforms\n",
        "import os \n",
        "class MU(Dataset):\n",
        "  def __init__(self,csv_path):\n",
        "    self.to_tensor=transforms.ToTensor()\n",
        "    # Read the csv file \n",
        "    self.data_info = pd.read_csv(csv_path,header=None)\n",
        "    # Read image path \n",
        "    self.img_path =  np.asarray(self.data_info.iloc[1:,8])\n",
        "    # Read the log_view < log_view as label>\n",
        "    self.label_arr =np.asarray(self.data_info.iloc[1:,7])\n",
        "    \n",
        "    \n",
        "    #data augmentation 을 기대할 수 있는 부분 ???! 고민해보자 \n",
        "    self.transformations = \\\n",
        "            transforms.Compose([transforms.Resize(256),\n",
        "                                transforms.Normalize((0.5, 0.5, 0.5), (0.5, 0.5, 0.5)),\n",
        "                                transforms.ToTensor()])\n",
        "    \n",
        "  \n",
        "        \n",
        "  def __len__(self):\n",
        "    return len(self.label_arr)\n",
        "  # def wait to drop \n",
        "\n",
        "  def __getitem__(self,idx):\n",
        "   #Get image name (actually path where images are )from pandas \n",
        "    if self.img_path is not np.nan:\n",
        "      u=self.img_path[idx] + \"/u\" # 상의\n",
        "      p=self.img_path[idx] + \"/p\" # 하의\n",
        "      s=self.img_path[idx] + \"/s\" # 상의\n",
        "    else: \n",
        "      pass \n",
        "    # Open Image \n",
        "    # 이미지가 경로에 없는 겨우 대비해야 할 것 \n",
        "    if os.path.isfile(u):\n",
        "      u_as_img =Image.open(u)\n",
        "    else :\n",
        "      u_as_img =Image.new(\"RGB\", (256, 256), (255, 255, 255))\n",
        "    if os.path.isfile(p):\n",
        "      p_as_img =Image.open(p)\n",
        "    else :\n",
        "      p_as_img =Image.new(\"RGB\", (256, 256), (255, 255, 255))\n",
        "\n",
        "    if os.path.isfile(s):\n",
        "      s_as_img =Image.open(s)\n",
        "    else :\n",
        "      s_as_img =Image.new(\"RGB\", (256, 256), (255, 255, 255))\n",
        "    #Img -> to tensor \n",
        "    u_as_tensor =self.to_tensor(u_as_img)\n",
        "    p_as_tensor =self.to_tensor(p_as_img)\n",
        "    s_as_tensor =self.to_tensor(s_as_img)\n",
        "    \n",
        "\n",
        "    _label=torch.tensor(float(self.label_arr[idx]))\n",
        "    label=torch.reshape(_label,(-1,))\n",
        " \n",
        "    \n",
        "    return(u_as_tensor,p_as_tensor,s_as_tensor,label )\n",
        "\n"
      ],
      "metadata": {
        "id": "oICGND2UxtcY"
      },
      "execution_count": null,
      "outputs": []
    },
    {
      "cell_type": "code",
      "source": [
        "from PIL import Image \n",
        "import glob\n",
        "from torch.utils.data.dataset import Dataset\n",
        "import numpy as np \n",
        "from torchvision import transforms\n",
        "from sklearn.preprocessing import minmax_scale\n",
        "import os \n",
        "class MU_normalized(Dataset):\n",
        "  def __init__(self,csv_path):\n",
        "    self.to_tensor=transforms.ToTensor()\n",
        "    # Read the csv file \n",
        "    self.data_info = pd.read_csv(csv_path,header=None)\n",
        "    # Read image path \n",
        "    self.img_path =  np.asarray(self.data_info.iloc[1:,8])\n",
        "    # Read the log_view < log_view as label>\n",
        "    self.label_arr =np.asarray(self.data_info.iloc[1:,7])\n",
        "    self.label_arr=minmax_scale(self.label_arr)\n",
        "    print(self.label_arr)\n",
        "    \n",
        "    #data augmentation 을 기대할 수 있는 부분 ???! 고민해보자 \n",
        "    self.transformations = \\\n",
        "            transforms.Compose([transforms.Resize((256,256)),\n",
        "                                transforms.Normalize((0.5, 0.5, 0.5), (0.5, 0.5, 0.5)),\n",
        "                                transforms.ToTensor()])\n",
        "    \n",
        "  \n",
        "        \n",
        "  def __len__(self):\n",
        "    return len(self.label_arr)\n",
        "  # def wait to drop \n",
        "\n",
        "  def __getitem__(self,idx):\n",
        "   #Get image name (actually path where images are )from pandas \n",
        "    if self.img_path is not np.nan:\n",
        "      u=self.img_path[idx] + \"/u\" # 상의\n",
        "      p=self.img_path[idx] + \"/p\" # 하의\n",
        "      s=self.img_path[idx] + \"/s\" # 상의\n",
        "    else: \n",
        "      pass \n",
        "    # Open Image \n",
        "    # 이미지가 경로에 없는 겨우 대비해야 할 것 \n",
        "    if os.path.isfile(u):\n",
        "      u_as_img =Image.open(u)\n",
        "    else :\n",
        "      u_as_img =Image.new(\"RGB\", (256, 256), (255, 255, 255))\n",
        "    if os.path.isfile(p):\n",
        "      p_as_img =Image.open(p)\n",
        "    else :\n",
        "      p_as_img =Image.new(\"RGB\", (256, 256), (255, 255, 255))\n",
        "\n",
        "    if os.path.isfile(s):\n",
        "      s_as_img =Image.open(s)\n",
        "    else :\n",
        "      s_as_img =Image.new(\"RGB\", (256, 256), (255, 255, 255))\n",
        "    #Img -> to tensor \n",
        "    u_as_tensor =self.to_tensor(u_as_img)\n",
        "    p_as_tensor =self.to_tensor(p_as_img)\n",
        "    s_as_tensor =self.to_tensor(s_as_img)\n",
        "    \n",
        "\n",
        "    _label=torch.tensor(float(self.label_arr[idx]))\n",
        "    label=torch.reshape(_label,(-1,))\n",
        " \n",
        "    \n",
        "    return(u_as_tensor,p_as_tensor,s_as_tensor,label)\n",
        "\n"
      ],
      "metadata": {
        "id": "4ZFppHtWmN5l"
      },
      "execution_count": null,
      "outputs": []
    },
    {
      "cell_type": "markdown",
      "source": [
        "**Model Architecture**\n",
        "\n",
        "1. VGG16 transfer learning\n",
        "\n",
        "2. Model_dp : model with dropout\n",
        "\n",
        "3. Model_no_dp : model without dropout"
      ],
      "metadata": {
        "id": "hDObodcMYJY3"
      }
    },
    {
      "cell_type": "code",
      "source": [
        "'''\n",
        "\n",
        "transfer learning \n",
        "\n",
        "\n",
        "새로 훈련할 데이터가 적지만 original 데이터와 유사할 경우\n",
        "데이터의 양이 적어 fine-tune (전체 모델에 대해서 backpropagation을 진행하는 것) 은 over-fitting의 위험이 있기에 하지 않습니다.\n",
        "새로 학습할 데이터는 original 데이터와 유사하기 때문에 이 경우 최종 linear classfier 레이어만 학습을 합니다.\n",
        "\n",
        "새로 훈련할 데이터가 매우 많으며 original 데이터와 유사할 경우\n",
        "새로 학습할 데이터의 양이 많다는 것은 over-fitting의 위험이 낮다는 뜻이므로, 전체 레이어에 대해서 fine-tune을 합니다.\n",
        "\n",
        "새로 훈련할 데이터가 적으며 original 데이터와 다른 경우\n",
        "데이터의 양이 적기 때문에 최종 단계의 linear classifier 레이어를 학습하는 것이 좋을 것입니다. 반면서 데이터가 서로 다르기 때문에 거의 마지막부분 (the top of the network)만 학습하는 것은 좋지 않습니다. 서로 상충이 되는데.. 이 경우에는 네트워크 초기 부분 어딘가 activation 이후에 특정 레이어를 학습시키는게 좋습니다.\n",
        "\n",
        "새로 훈련할 데이터가 많지만 original 데이터와와 다른 경우\n",
        "데이터가 많기 때문에 아예 새로운 ConvNet을 만들수도 있지만, 실적적으로 transfer learning이 더 효율이 좋습니다. 전체 네트워크에 대해서 fine-tune을 해도 됩니다.\n",
        "\n",
        "'''\n",
        "\n",
        "from torchvision import models\n",
        "\n",
        "model_pt=models.vgg16(weights='VGG16_Weights.IMAGENET1K_V1')\n",
        "\n",
        "\n",
        "for p in model_pt.parameters():\n",
        "  p.requires_grad=False # 가중치가 학습되지 않도록 함 \n",
        "#in_features?\n",
        "\n",
        "\n",
        "print(model_pt.features)"
      ],
      "metadata": {
        "colab": {
          "base_uri": "https://localhost:8080/"
        },
        "id": "Bwqge-pmxvnp",
        "outputId": "779f28f1-3c5b-45e9-b97a-40bc5af5303d"
      },
      "execution_count": null,
      "outputs": [
        {
          "output_type": "stream",
          "name": "stdout",
          "text": [
            "Sequential(\n",
            "  (0): Conv2d(3, 64, kernel_size=(3, 3), stride=(1, 1), padding=(1, 1))\n",
            "  (1): ReLU(inplace=True)\n",
            "  (2): Conv2d(64, 64, kernel_size=(3, 3), stride=(1, 1), padding=(1, 1))\n",
            "  (3): ReLU(inplace=True)\n",
            "  (4): MaxPool2d(kernel_size=2, stride=2, padding=0, dilation=1, ceil_mode=False)\n",
            "  (5): Conv2d(64, 128, kernel_size=(3, 3), stride=(1, 1), padding=(1, 1))\n",
            "  (6): ReLU(inplace=True)\n",
            "  (7): Conv2d(128, 128, kernel_size=(3, 3), stride=(1, 1), padding=(1, 1))\n",
            "  (8): ReLU(inplace=True)\n",
            "  (9): MaxPool2d(kernel_size=2, stride=2, padding=0, dilation=1, ceil_mode=False)\n",
            "  (10): Conv2d(128, 256, kernel_size=(3, 3), stride=(1, 1), padding=(1, 1))\n",
            "  (11): ReLU(inplace=True)\n",
            "  (12): Conv2d(256, 256, kernel_size=(3, 3), stride=(1, 1), padding=(1, 1))\n",
            "  (13): ReLU(inplace=True)\n",
            "  (14): Conv2d(256, 256, kernel_size=(3, 3), stride=(1, 1), padding=(1, 1))\n",
            "  (15): ReLU(inplace=True)\n",
            "  (16): MaxPool2d(kernel_size=2, stride=2, padding=0, dilation=1, ceil_mode=False)\n",
            "  (17): Conv2d(256, 512, kernel_size=(3, 3), stride=(1, 1), padding=(1, 1))\n",
            "  (18): ReLU(inplace=True)\n",
            "  (19): Conv2d(512, 512, kernel_size=(3, 3), stride=(1, 1), padding=(1, 1))\n",
            "  (20): ReLU(inplace=True)\n",
            "  (21): Conv2d(512, 512, kernel_size=(3, 3), stride=(1, 1), padding=(1, 1))\n",
            "  (22): ReLU(inplace=True)\n",
            "  (23): MaxPool2d(kernel_size=2, stride=2, padding=0, dilation=1, ceil_mode=False)\n",
            "  (24): Conv2d(512, 512, kernel_size=(3, 3), stride=(1, 1), padding=(1, 1))\n",
            "  (25): ReLU(inplace=True)\n",
            "  (26): Conv2d(512, 512, kernel_size=(3, 3), stride=(1, 1), padding=(1, 1))\n",
            "  (27): ReLU(inplace=True)\n",
            "  (28): Conv2d(512, 512, kernel_size=(3, 3), stride=(1, 1), padding=(1, 1))\n",
            "  (29): ReLU(inplace=True)\n",
            "  (30): MaxPool2d(kernel_size=2, stride=2, padding=0, dilation=1, ceil_mode=False)\n",
            ")\n"
          ]
        }
      ]
    },
    {
      "cell_type": "code",
      "source": [
        "\n",
        "'''\n",
        "pretrained model VGG 16 AlexNet LeNet .... Transfer learning \n",
        "'''\n",
        "import torch.nn.functional as F\n",
        "from torch import nn\n",
        "class Model_dp(nn.Module):\n",
        "    def __init__(self):\n",
        "        super(Model_dp, self).__init__()\n",
        "        self.relu = nn.ReLU(inplace=True)\n",
        "        self.l1   =  nn.Linear(98304 ,1024)\n",
        "        self.l2   =  nn.Linear(1024,1) # regression 이기 때문에 마지막 차원 1 \n",
        "        self.VGG16 = model_pt.features\n",
        "        self.dp   = nn.Dropout(p=0.5)\n",
        "    def forward(self, top ,bot,shoes):\n",
        "        top= self.VGG16(top)   #256*256\n",
        "        bot = self.VGG16(bot)  \n",
        "        shoes = self.VGG16(shoes) \n",
        "        N ,_,_,_ = top.size()\n",
        "\n",
        "        top = top.reshape(N,-1)\n",
        "        bot = bot.reshape(N,-1)\n",
        "        shoes = shoes.reshape(N,-1)\n",
        "        z = torch.cat((top,bot,shoes),1)\n",
        "        z = self.l1(z)\n",
        "        z = self.relu(z)\n",
        "        z = self.dp(z)\n",
        "        z = self.l2(z)\n",
        "        return z\n",
        "    \n"
      ],
      "metadata": {
        "id": "xOe-oAwvxwO4"
      },
      "execution_count": null,
      "outputs": []
    },
    {
      "cell_type": "code",
      "source": [
        "\n",
        "'''\n",
        "pretrained model VGG 16 AlexNet LeNet .... Transfer learning \n",
        "'''\n",
        "import torch.nn.functional as F\n",
        "from torch import nn\n",
        "class Model_no_dp(nn.Module):\n",
        "    def __init__(self):\n",
        "        super(Model_no_dp, self).__init__()\n",
        "        self.relu = nn.ReLU(inplace=True)\n",
        "        self.l1   =  nn.Linear(98304 ,1024)\n",
        "        self.l2   =  nn.Linear(1024,1) # regression 이기 때문에 마지막 차원 1 \n",
        "        self.VGG16 = model_pt.features\n",
        "        self.dp   = nn.Dropout(p=0.5)\n",
        "    def forward(self, top ,bot,shoes):\n",
        "        top= self.VGG16(top)   #256*256\n",
        "        bot = self.VGG16(bot)  \n",
        "        shoes = self.VGG16(shoes) \n",
        "        N ,_,_,_ = top.size()\n",
        "\n",
        "        top = top.reshape(N,-1)\n",
        "        bot = bot.reshape(N,-1)\n",
        "        shoes = shoes.reshape(N,-1)\n",
        "        z = torch.cat((top,bot,shoes),1)\n",
        "        z = self.l1(z)\n",
        "        z = self.relu(z)\n",
        "        z = self.l2(z)\n",
        "        return z\n",
        "    \n"
      ],
      "metadata": {
        "id": "bixSR3vREqTp"
      },
      "execution_count": null,
      "outputs": []
    },
    {
      "cell_type": "code",
      "source": [
        "df=pd.read_csv(\"/content/drive/MyDrive/캡스톤/label_and_path_withoutNaN\")\n",
        "df.iloc[:,7]"
      ],
      "metadata": {
        "id": "TO2kHMnE4qG9",
        "colab": {
          "base_uri": "https://localhost:8080/"
        },
        "outputId": "03a90f04-9f09-4781-80f5-41eb9fab21ef"
      },
      "execution_count": null,
      "outputs": [
        {
          "output_type": "execute_result",
          "data": {
            "text/plain": [
              "0       8.139149\n",
              "1       7.519692\n",
              "2       5.913503\n",
              "3       7.142827\n",
              "4       5.777652\n",
              "          ...   \n",
              "3911    7.311218\n",
              "3912    7.476472\n",
              "3913    6.815640\n",
              "3914    7.043160\n",
              "3915    5.081404\n",
              "Name: log-view, Length: 3916, dtype: float64"
            ]
          },
          "metadata": {},
          "execution_count": 11
        }
      ]
    },
    {
      "cell_type": "markdown",
      "source": [
        "**Train / Test 정의**"
      ],
      "metadata": {
        "id": "PIET_uL4Yibz"
      }
    },
    {
      "cell_type": "code",
      "source": [
        "\n",
        "def train(n_epochs,model, optimizer,criterion):\n",
        "\n",
        "  rmse_train_history = []\n",
        "  for epoch in range(1, n_epochs + 1):\n",
        "\n",
        "    dataiter=iter(train_dataloader)\n",
        "    u,p,s ,label = dataiter.next()\n",
        "        # clearing the Gradients of the model parameters\n",
        "    optimizer.zero_grad()\n",
        "\n",
        "        # prediction for training and validation set\n",
        "    model.train()\n",
        "    u=u.type(torch.cuda.FloatTensor)\n",
        "    p=p.type(torch.cuda.FloatTensor)\n",
        "    s=s.type(torch.cuda.FloatTensor)\n",
        "    label=label.to(device)\n",
        "    output_train = model(u,p,s)\n",
        "        \n",
        "        # computing the training and validation loss\n",
        "    train_rmse = torch.sqrt(criterion(output_train, label)) #RMSE\n",
        "    train_rmse.backward()\n",
        "    optimizer.step()\n",
        "    if epoch % 10== 0:\n",
        "      print('Epoch :', epoch, '\\t', 'RMSE', round(train_rmse.item(), 3))\n",
        "    rmse_train_history.append(train_rmse)\n",
        "  return rmse_train_history\n",
        "\n",
        "def test(n_epochs,model, optimizer,criterion):\n",
        "  rmse_history = []\n",
        "  for epoch in range(1, n_epochs + 1):\n",
        "    model.eval()\n",
        "    testiter=iter(test_dataloader)\n",
        "    u,p,s ,y_test=testiter.next()\n",
        "    y_test=y_test.detach().cpu().numpy()    \n",
        "    u=u.type(torch.cuda.FloatTensor)\n",
        "    p=p.type(torch.cuda.FloatTensor)\n",
        "    s=s.type(torch.cuda.FloatTensor)   \n",
        "           # prediction on testing dataset\n",
        "    pred = model(u,p,s)\n",
        "    pred=pred.detach().cpu().numpy()\n",
        "    test_rmse = math.sqrt(mean_squared_error(y_test,pred))\n",
        "    if epoch % 10== 0:\n",
        "      print('Epoch :', epoch, '\\t',\"RMSE =\", round(test_rmse,3))\n",
        "    rmse_history.append(test_rmse)\n",
        "  return rmse_history"
      ],
      "metadata": {
        "id": "uXTC-ReftHoo"
      },
      "execution_count": null,
      "outputs": []
    },
    {
      "cell_type": "markdown",
      "source": [
        "**학습**\n"
      ],
      "metadata": {
        "id": "ntaEHqnBYvY4"
      }
    },
    {
      "cell_type": "code",
      "source": [
        "import torch\n",
        "import pandas as pd\n",
        "from torch import nn\n",
        "from torch import optim\n",
        "from torch.utils.data import Dataset, DataLoader, random_split\n",
        "\n",
        "\n",
        "custom_cloth = MU(\"/content/drive/MyDrive/캡스톤/label_and_path_withoutNaN\")\n",
        "    # Define dataloader\n",
        "\n",
        "dataset_size = len(custom_cloth)\n",
        "train_size = int(dataset_size * 0.8)\n",
        "\n",
        "test_size = dataset_size - train_size\n",
        "\n",
        "train_dataset,  test_dataset = random_split(custom_cloth, [train_size, test_size])\n",
        "\n",
        "train_dataloader = DataLoader(train_dataset, batch_size=16, shuffle=True, drop_last=True)\n",
        "test_dataloader = DataLoader(test_dataset, batch_size=4, shuffle=True, drop_last=True)\n"
      ],
      "metadata": {
        "id": "T9X-GHHSx4-o"
      },
      "execution_count": null,
      "outputs": []
    },
    {
      "cell_type": "code",
      "source": [
        "custom_cloth = MU_normalized(\"/content/drive/MyDrive/캡스톤/label_and_path_withoutNaN\")\n",
        "dataset_size = len(custom_cloth)\n",
        "\n",
        "train_dataset,  test_dataset = random_split(custom_cloth, [train_size, test_size])\n",
        "\n",
        "train_dataloader = DataLoader(train_dataset, batch_size=16, shuffle=True, drop_last=True)\n",
        "test_dataloader = DataLoader(test_dataset, batch_size=4, shuffle=True, drop_last=True)\n"
      ],
      "metadata": {
        "id": "vSZu8y7FtIBm",
        "colab": {
          "base_uri": "https://localhost:8080/"
        },
        "outputId": "eeb0f6c7-d6a5-45de-8b17-da2770b63c65"
      },
      "execution_count": null,
      "outputs": [
        {
          "output_type": "stream",
          "name": "stdout",
          "text": [
            "[0.66100355 0.56506451 0.31630399 ... 0.45602354 0.49126097 0.18743171]\n"
          ]
        }
      ]
    },
    {
      "cell_type": "code",
      "source": [
        "torch.manual_seed(999)\n",
        "model_no_dp=Model_no_dp().to(device) \n",
        "dataset_size = len(custom_cloth)\n",
        "train_dataset,  test_dataset = random_split(custom_cloth, [train_size, test_size])\n",
        "\n",
        "train_dataloader = DataLoader(train_dataset, batch_size=16, shuffle=True, drop_last=True)\n",
        "test_dataloader = DataLoader(test_dataset, batch_size=4, shuffle=True, drop_last=True)\n",
        "criterion =torch.nn.MSELoss()\n",
        "optimizer =torch.optim.SGD(model_no_dp.parameters(), lr=  0.01)\n",
        "\n",
        "train_li=train(500,model_no_dp,optimizer=optimizer,criterion=criterion)\n",
        "test_li=test(500,model_no_dp,optimizer=optimizer,criterion=criterion)"
      ],
      "metadata": {
        "id": "HMDshHvAthQm",
        "colab": {
          "base_uri": "https://localhost:8080/"
        },
        "outputId": "01a41826-f354-49be-b033-44a450a25e5c"
      },
      "execution_count": null,
      "outputs": [
        {
          "output_type": "stream",
          "name": "stdout",
          "text": [
            "Epoch : 290 \t RMSE 0.23\n",
            "Epoch : 300 \t RMSE 0.117\n",
            "Epoch : 310 \t RMSE 0.147\n",
            "Epoch : 320 \t RMSE 0.087\n",
            "Epoch : 330 \t RMSE 0.085\n",
            "Epoch : 340 \t RMSE 0.116\n",
            "Epoch : 350 \t RMSE 0.142\n",
            "Epoch : 360 \t RMSE 0.173\n",
            "Epoch : 370 \t RMSE 0.102\n",
            "Epoch : 380 \t RMSE 0.129\n",
            "Epoch : 390 \t RMSE 0.167\n",
            "Epoch : 400 \t RMSE 0.124\n",
            "Epoch : 410 \t RMSE 0.117\n",
            "Epoch : 420 \t RMSE 0.155\n",
            "Epoch : 430 \t RMSE 0.099\n",
            "Epoch : 440 \t RMSE 0.083\n",
            "Epoch : 450 \t RMSE 0.13\n",
            "Epoch : 460 \t RMSE 0.126\n",
            "Epoch : 470 \t RMSE 0.094\n",
            "Epoch : 480 \t RMSE 0.126\n",
            "Epoch : 490 \t RMSE 0.139\n",
            "Epoch : 500 \t RMSE 0.139\n",
            "Epoch : 10 \t RMSE = 0.276\n",
            "Epoch : 20 \t RMSE = 0.14\n",
            "Epoch : 30 \t RMSE = 0.14\n",
            "Epoch : 40 \t RMSE = 0.087\n",
            "Epoch : 50 \t RMSE = 0.039\n",
            "Epoch : 60 \t RMSE = 0.192\n",
            "Epoch : 70 \t RMSE = 0.105\n",
            "Epoch : 80 \t RMSE = 0.225\n",
            "Epoch : 90 \t RMSE = 0.068\n",
            "Epoch : 100 \t RMSE = 0.148\n",
            "Epoch : 110 \t RMSE = 0.088\n",
            "Epoch : 120 \t RMSE = 0.07\n",
            "Epoch : 130 \t RMSE = 0.165\n",
            "Epoch : 140 \t RMSE = 0.066\n",
            "Epoch : 150 \t RMSE = 0.069\n",
            "Epoch : 160 \t RMSE = 0.185\n",
            "Epoch : 170 \t RMSE = 0.161\n",
            "Epoch : 180 \t RMSE = 0.128\n",
            "Epoch : 190 \t RMSE = 0.085\n",
            "Epoch : 200 \t RMSE = 0.062\n",
            "Epoch : 210 \t RMSE = 0.091\n",
            "Epoch : 220 \t RMSE = 0.125\n",
            "Epoch : 230 \t RMSE = 0.072\n",
            "Epoch : 240 \t RMSE = 0.149\n",
            "Epoch : 250 \t RMSE = 0.133\n",
            "Epoch : 260 \t RMSE = 0.114\n",
            "Epoch : 270 \t RMSE = 0.101\n",
            "Epoch : 280 \t RMSE = 0.139\n",
            "Epoch : 290 \t RMSE = 0.067\n",
            "Epoch : 300 \t RMSE = 0.119\n",
            "Epoch : 310 \t RMSE = 0.169\n",
            "Epoch : 320 \t RMSE = 0.114\n",
            "Epoch : 330 \t RMSE = 0.089\n",
            "Epoch : 340 \t RMSE = 0.069\n",
            "Epoch : 350 \t RMSE = 0.032\n",
            "Epoch : 360 \t RMSE = 0.233\n",
            "Epoch : 370 \t RMSE = 0.103\n",
            "Epoch : 380 \t RMSE = 0.043\n",
            "Epoch : 390 \t RMSE = 0.138\n",
            "Epoch : 400 \t RMSE = 0.163\n",
            "Epoch : 410 \t RMSE = 0.16\n",
            "Epoch : 420 \t RMSE = 0.098\n",
            "Epoch : 430 \t RMSE = 0.097\n",
            "Epoch : 440 \t RMSE = 0.104\n",
            "Epoch : 450 \t RMSE = 0.102\n",
            "Epoch : 460 \t RMSE = 0.055\n",
            "Epoch : 470 \t RMSE = 0.223\n",
            "Epoch : 480 \t RMSE = 0.114\n",
            "Epoch : 490 \t RMSE = 0.163\n",
            "Epoch : 500 \t RMSE = 0.176\n"
          ]
        }
      ]
    },
    {
      "cell_type": "code",
      "source": [
        "#시각화\n",
        "t_l=[]\n",
        "for x in train_li:\n",
        "  x=x.detach().cpu().numpy()\n",
        "  t_l.append(x)\n",
        "plt.plot(np.arange(500),t_l,'r')\n",
        "plt.plot(np.arange(500),test_li,'b')\n",
        "\n",
        "plt.xlabel(\"Epoch\")\n",
        "plt.ylabel(\"rmse\")\n",
        "\n",
        "plt.show()"
      ],
      "metadata": {
        "id": "oVrzld7jwfY9",
        "colab": {
          "base_uri": "https://localhost:8080/",
          "height": 279
        },
        "outputId": "5c4e9256-77b0-40d8-ec97-8c7c9f9c96a7"
      },
      "execution_count": null,
      "outputs": [
        {
          "output_type": "display_data",
          "data": {
            "text/plain": [
              "<Figure size 432x288 with 1 Axes>"
            ],
            "image/png": "[encoded data removed]"
          },
          "metadata": {
            "needs_background": "light"
          }
        }
      ]
    },
    {
      "cell_type": "code",
      "source": [
        "\n",
        "model_dp=Model_dp().to(device) \n",
        "criterion =torch.nn.MSELoss()\n",
        "optimizer =torch.optim.SGD(model_dp.parameters(), lr=  0.01)\n",
        "train_li=train(500,model_dp,optimizer=optimizer,criterion=criterion)\n",
        "test_li=test(500,model_dp,optimizer=optimizer,criterion=criterion)"
      ],
      "metadata": {
        "id": "UzEJNq8Q1Tdp",
        "colab": {
          "base_uri": "https://localhost:8080/"
        },
        "outputId": "87f5b76c-cbb3-43b3-92c9-15ebc83c7b40"
      },
      "execution_count": null,
      "outputs": [
        {
          "output_type": "stream",
          "name": "stdout",
          "text": [
            "Epoch : 10 \t RMSE 0.163\n",
            "Epoch : 20 \t RMSE 0.177\n",
            "Epoch : 30 \t RMSE 0.143\n",
            "Epoch : 40 \t RMSE 0.167\n",
            "Epoch : 50 \t RMSE 0.131\n",
            "Epoch : 60 \t RMSE 0.184\n",
            "Epoch : 70 \t RMSE 0.224\n",
            "Epoch : 80 \t RMSE 0.121\n",
            "Epoch : 90 \t RMSE 0.243\n",
            "Epoch : 100 \t RMSE 0.225\n",
            "Epoch : 110 \t RMSE 0.182\n",
            "Epoch : 120 \t RMSE 0.186\n",
            "Epoch : 130 \t RMSE 0.132\n",
            "Epoch : 140 \t RMSE 0.188\n",
            "Epoch : 150 \t RMSE 0.152\n",
            "Epoch : 160 \t RMSE 0.144\n",
            "Epoch : 170 \t RMSE 0.241\n",
            "Epoch : 180 \t RMSE 0.101\n",
            "Epoch : 190 \t RMSE 0.119\n",
            "Epoch : 200 \t RMSE 0.099\n",
            "Epoch : 210 \t RMSE 0.155\n",
            "Epoch : 220 \t RMSE 0.079\n",
            "Epoch : 230 \t RMSE 0.144\n",
            "Epoch : 240 \t RMSE 0.14\n",
            "Epoch : 250 \t RMSE 0.128\n",
            "Epoch : 260 \t RMSE 0.098\n",
            "Epoch : 270 \t RMSE 0.158\n",
            "Epoch : 280 \t RMSE 0.116\n",
            "Epoch : 290 \t RMSE 0.093\n",
            "Epoch : 300 \t RMSE 0.111\n",
            "Epoch : 310 \t RMSE 0.083\n",
            "Epoch : 320 \t RMSE 0.155\n",
            "Epoch : 330 \t RMSE 0.118\n",
            "Epoch : 340 \t RMSE 0.141\n",
            "Epoch : 350 \t RMSE 0.116\n",
            "Epoch : 360 \t RMSE 0.104\n",
            "Epoch : 370 \t RMSE 0.178\n",
            "Epoch : 380 \t RMSE 0.116\n",
            "Epoch : 390 \t RMSE 0.125\n",
            "Epoch : 400 \t RMSE 0.113\n",
            "Epoch : 410 \t RMSE 0.093\n",
            "Epoch : 420 \t RMSE 0.142\n",
            "Epoch : 430 \t RMSE 0.142\n",
            "Epoch : 440 \t RMSE 0.084\n",
            "Epoch : 450 \t RMSE 0.112\n",
            "Epoch : 460 \t RMSE 0.117\n",
            "Epoch : 470 \t RMSE 0.139\n",
            "Epoch : 480 \t RMSE 0.173\n",
            "Epoch : 490 \t RMSE 0.12\n",
            "Epoch : 500 \t RMSE 0.107\n",
            "Epoch : 10 \t RMSE = 0.026\n",
            "Epoch : 20 \t RMSE = 0.075\n",
            "Epoch : 30 \t RMSE = 0.138\n",
            "Epoch : 40 \t RMSE = 0.042\n",
            "Epoch : 50 \t RMSE = 0.163\n",
            "Epoch : 60 \t RMSE = 0.179\n",
            "Epoch : 70 \t RMSE = 0.179\n",
            "Epoch : 80 \t RMSE = 0.186\n",
            "Epoch : 90 \t RMSE = 0.184\n",
            "Epoch : 100 \t RMSE = 0.085\n",
            "Epoch : 110 \t RMSE = 0.073\n",
            "Epoch : 120 \t RMSE = 0.12\n",
            "Epoch : 130 \t RMSE = 0.139\n",
            "Epoch : 140 \t RMSE = 0.074\n",
            "Epoch : 150 \t RMSE = 0.164\n",
            "Epoch : 160 \t RMSE = 0.069\n",
            "Epoch : 170 \t RMSE = 0.173\n",
            "Epoch : 180 \t RMSE = 0.165\n",
            "Epoch : 190 \t RMSE = 0.073\n",
            "Epoch : 200 \t RMSE = 0.075\n",
            "Epoch : 210 \t RMSE = 0.048\n",
            "Epoch : 220 \t RMSE = 0.051\n",
            "Epoch : 230 \t RMSE = 0.127\n",
            "Epoch : 240 \t RMSE = 0.152\n",
            "Epoch : 250 \t RMSE = 0.132\n",
            "Epoch : 260 \t RMSE = 0.058\n",
            "Epoch : 270 \t RMSE = 0.09\n",
            "Epoch : 280 \t RMSE = 0.143\n",
            "Epoch : 290 \t RMSE = 0.138\n",
            "Epoch : 300 \t RMSE = 0.076\n",
            "Epoch : 310 \t RMSE = 0.101\n",
            "Epoch : 320 \t RMSE = 0.117\n",
            "Epoch : 330 \t RMSE = 0.088\n",
            "Epoch : 340 \t RMSE = 0.102\n",
            "Epoch : 350 \t RMSE = 0.087\n",
            "Epoch : 360 \t RMSE = 0.065\n",
            "Epoch : 370 \t RMSE = 0.043\n",
            "Epoch : 380 \t RMSE = 0.063\n",
            "Epoch : 390 \t RMSE = 0.164\n",
            "Epoch : 400 \t RMSE = 0.074\n",
            "Epoch : 410 \t RMSE = 0.116\n",
            "Epoch : 420 \t RMSE = 0.05\n",
            "Epoch : 430 \t RMSE = 0.138\n",
            "Epoch : 440 \t RMSE = 0.149\n",
            "Epoch : 450 \t RMSE = 0.23\n",
            "Epoch : 460 \t RMSE = 0.053\n",
            "Epoch : 470 \t RMSE = 0.059\n",
            "Epoch : 480 \t RMSE = 0.099\n",
            "Epoch : 490 \t RMSE = 0.109\n",
            "Epoch : 500 \t RMSE = 0.08\n"
          ]
        }
      ]
    },
    {
      "cell_type": "code",
      "source": [
        "#시각화\n",
        "t_l=[]\n",
        "for x in train_li:\n",
        "  x=x.detach().cpu().numpy()\n",
        "  t_l.append(x)\n",
        "plt.plot(np.arange(500),t_l,'r')\n",
        "plt.plot(np.arange(500),test_li,'b')\n",
        "\n",
        "plt.xlabel(\"Epoch\")\n",
        "plt.ylabel(\"rmse\")\n",
        "\n",
        "plt.show()"
      ],
      "metadata": {
        "id": "HowhTn6o1VJ1",
        "colab": {
          "base_uri": "https://localhost:8080/",
          "height": 279
        },
        "outputId": "a06a6825-fd23-4792-967d-16e0fc6b8f9c"
      },
      "execution_count": null,
      "outputs": [
        {
          "output_type": "display_data",
          "data": {
            "text/plain": [
              "<Figure size 432x288 with 1 Axes>"
            ],
            "image/png": "[encoded data removed]"
          },
          "metadata": {
            "needs_background": "light"
          }
        }
      ]
    }
  ]
}