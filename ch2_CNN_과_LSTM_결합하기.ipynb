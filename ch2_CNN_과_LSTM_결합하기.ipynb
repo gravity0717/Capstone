{
  "nbformat": 4,
  "nbformat_minor": 0,
  "metadata": {
    "colab": {
      "name": "ch2 CNN 과 LSTM 결합하기.ipynb",
      "provenance": [],
      "authorship_tag": "ABX9TyM6F3+towqS0fMesL/CjvoZ",
      "include_colab_link": true
    },
    "kernelspec": {
      "name": "python3",
      "display_name": "Python 3"
    },
    "language_info": {
      "name": "python"
    }
  },
  "cells": [
    {
      "cell_type": "markdown",
      "metadata": {
        "id": "view-in-github",
        "colab_type": "text"
      },
      "source": [
        "<a href=\"https://colab.research.google.com/github/gravity0717/Capstone/blob/main/ch2_CNN_%EA%B3%BC_LSTM_%EA%B2%B0%ED%95%A9%ED%95%98%EA%B8%B0.ipynb\" target=\"_parent\"><img src=\"https://colab.research.google.com/assets/colab-badge.svg\" alt=\"Open In Colab\"/></a>"
      ]
    },
    {
      "cell_type": "code",
      "execution_count": null,
      "metadata": {
        "id": "P_8ZnV_Ik2yf"
      },
      "outputs": [],
      "source": [
        ""
      ]
    }
  ]
}